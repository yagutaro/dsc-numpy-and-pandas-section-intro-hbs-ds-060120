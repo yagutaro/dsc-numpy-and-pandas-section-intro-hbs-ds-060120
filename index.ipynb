{
 "cells": [
  {
   "cell_type": "markdown",
   "metadata": {},
   "source": [
    "# Python Libraries: Numpy and Pandas - Introduction\n",
    "\n",
    "## Introduction\n",
    "\n",
    "In this section, you'll be introduced to two libraries you will use extensively during your career as a Data Scientist: Numpy and Pandas!\n",
    "\n",
    "\n",
    "## Python and the Open-Source Movement\n",
    "\n",
    "Now that we've learned some Python skills and have some Data Science knowledge, it's time to start gaining experience with the tools the professionals use. There are two programming languages that are heavily used in Data Science: Python and R. As you've probably surmised by now, we'll be focusing on Python. One of the great benefits of the Python language is that it has a very active open-source community, which means tons of great libraries and frameworks we can use to do the heavy lifting. One of the main reasons that Python is such a great choice for Data Science is that the scientific community has written plenty of great packages to do all advanced things we need. This means that when we use Python, we have access to a wealth of robust, effective tools written and maintained by an army of volunteers and professionals. \n",
    "\n",
    "In this section, we're going to dig into two of the most foundational libraries in the Data Science toolbox --  **_Numpy_** and **_Pandas_**!\n",
    "\n",
    "\n",
    "## The Data Science Stack: Numpy and Pandas\n",
    "\n",
    "| <img src='numpy-logo.png'>  | <img src='pandas-logo.png' height=50% width=50%>  |\n",
    "|---|---|\n",
    "\n",
    "The two most foundational libraries in the Data Science 'Stack' are **_Numpy_** and **_Pandas_**.  In this section, we're going to dig into both libraries and get a feel for how they can make our lives easier and allow us to do amazing things with data with just a few lines of code. \n",
    "\n",
    "### Numpy: Numerical Computation\n",
    "\n",
    "The Python library that's most important to Data Scientists is almost certainly [Numpy](http://www.numpy.org/). Numpy is a _Numerical Computation_ Library, because it provides the building blocks for all of the other amazing Python libraries such as Pandas, in addition to providing a quick and easy way to do advanced mathematical computations. In a few short lessons, we're going to learn all about how Numpy works, how we can use it to quickly perform advanced math and computations, and how it fits into Data Science as a whole. \n",
    "\n",
    "\n",
    "### Pandas: For Working With Data\n",
    "\n",
    "[Pandas](https://pandas.pydata.org/) is a library for data analysis that makes Python a much more effective tool for Data Science. Pandas allows us to create **_DataFrames_** to organize and work with any dataset. You'll probably recognize DataFrames when you see them -- they look just like an Excel Spreadsheet! In this section, we're going to get **A LOT** of practice in Pandas. You'll learn how Data Scientists use Pandas to quickly and effectively read, store, manipulate, and export data. The best part is, it's a one-stop shop since it is built on top of libraries like Numpy and Matplotlib!"
   ]
  }
 ],
 "metadata": {
  "kernelspec": {
   "display_name": "Python 3",
   "language": "python",
   "name": "python3"
  },
  "language_info": {
   "codemirror_mode": {
    "name": "ipython",
    "version": 3
   },
   "file_extension": ".py",
   "mimetype": "text/x-python",
   "name": "python",
   "nbconvert_exporter": "python",
   "pygments_lexer": "ipython3",
   "version": "3.6.9"
  }
 },
 "nbformat": 4,
 "nbformat_minor": 2
}
